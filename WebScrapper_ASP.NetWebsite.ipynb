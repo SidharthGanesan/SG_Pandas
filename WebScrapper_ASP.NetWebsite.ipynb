{
  "nbformat": 4,
  "nbformat_minor": 0,
  "metadata": {
    "colab": {
      "provenance": [],
      "authorship_tag": "ABX9TyOyzYjyXKGjZh1vHM/gcBNX",
      "include_colab_link": true
    },
    "kernelspec": {
      "name": "python3",
      "display_name": "Python 3"
    },
    "language_info": {
      "name": "python"
    }
  },
  "cells": [
    {
      "cell_type": "markdown",
      "metadata": {
        "id": "view-in-github",
        "colab_type": "text"
      },
      "source": [
        "<a href=\"https://colab.research.google.com/github/SidharthGanesan/SG_Pandas/blob/main/WebScrapper_ASP.NetWebsite.ipynb\" target=\"_parent\"><img src=\"https://colab.research.google.com/assets/colab-badge.svg\" alt=\"Open In Colab\"/></a>"
      ]
    },
    {
      "cell_type": "code",
      "source": [
        "!pip install requests pandas beautifulsoup4 lxml"
      ],
      "metadata": {
        "colab": {
          "base_uri": "https://localhost:8080/"
        },
        "id": "HQmigOa1GvdO",
        "outputId": "cc7c0835-eb0e-4a88-996f-1c3560a6a621"
      },
      "execution_count": null,
      "outputs": [
        {
          "output_type": "stream",
          "name": "stdout",
          "text": [
            "Requirement already satisfied: requests in /usr/local/lib/python3.12/dist-packages (2.32.4)\n",
            "Requirement already satisfied: pandas in /usr/local/lib/python3.12/dist-packages (2.2.2)\n",
            "Requirement already satisfied: beautifulsoup4 in /usr/local/lib/python3.12/dist-packages (4.13.4)\n",
            "Requirement already satisfied: lxml in /usr/local/lib/python3.12/dist-packages (5.4.0)\n",
            "Requirement already satisfied: charset_normalizer<4,>=2 in /usr/local/lib/python3.12/dist-packages (from requests) (3.4.3)\n",
            "Requirement already satisfied: idna<4,>=2.5 in /usr/local/lib/python3.12/dist-packages (from requests) (3.10)\n",
            "Requirement already satisfied: urllib3<3,>=1.21.1 in /usr/local/lib/python3.12/dist-packages (from requests) (2.5.0)\n",
            "Requirement already satisfied: certifi>=2017.4.17 in /usr/local/lib/python3.12/dist-packages (from requests) (2025.8.3)\n",
            "Requirement already satisfied: numpy>=1.26.0 in /usr/local/lib/python3.12/dist-packages (from pandas) (2.0.2)\n",
            "Requirement already satisfied: python-dateutil>=2.8.2 in /usr/local/lib/python3.12/dist-packages (from pandas) (2.9.0.post0)\n",
            "Requirement already satisfied: pytz>=2020.1 in /usr/local/lib/python3.12/dist-packages (from pandas) (2025.2)\n",
            "Requirement already satisfied: tzdata>=2022.7 in /usr/local/lib/python3.12/dist-packages (from pandas) (2025.2)\n",
            "Requirement already satisfied: soupsieve>1.2 in /usr/local/lib/python3.12/dist-packages (from beautifulsoup4) (2.7)\n",
            "Requirement already satisfied: typing-extensions>=4.0.0 in /usr/local/lib/python3.12/dist-packages (from beautifulsoup4) (4.14.1)\n",
            "Requirement already satisfied: six>=1.5 in /usr/local/lib/python3.12/dist-packages (from python-dateutil>=2.8.2->pandas) (1.17.0)\n"
          ]
        }
      ]
    },
    {
      "cell_type": "code",
      "execution_count": null,
      "metadata": {
        "colab": {
          "base_uri": "https://localhost:8080/"
        },
        "id": "XrBgmLqPNm8J",
        "outputId": "20c39a4f-9e28-4b27-c917-cfc5b3f87489"
      },
      "outputs": [
        {
          "output_type": "stream",
          "name": "stdout",
          "text": [
            "Fetching 2020-03-01 ...\n"
          ]
        },
        {
          "output_type": "stream",
          "name": "stderr",
          "text": [
            "/tmp/ipython-input-458471964.py:62: FutureWarning: Passing literal html to 'read_html' is deprecated and will be removed in a future version. To read from a literal string, wrap it in a 'StringIO' object.\n",
            "  tables = pd.read_html(html)  # requires lxml\n"
          ]
        },
        {
          "output_type": "stream",
          "name": "stdout",
          "text": [
            "  ✅ Saved daily_prices_retail_2020-03-01.csv (135 rows)\n",
            "Fetching 2020-03-02 ...\n"
          ]
        },
        {
          "output_type": "stream",
          "name": "stderr",
          "text": [
            "/tmp/ipython-input-458471964.py:62: FutureWarning: Passing literal html to 'read_html' is deprecated and will be removed in a future version. To read from a literal string, wrap it in a 'StringIO' object.\n",
            "  tables = pd.read_html(html)  # requires lxml\n"
          ]
        },
        {
          "output_type": "stream",
          "name": "stdout",
          "text": [
            "  ✅ Saved daily_prices_retail_2020-03-02.csv (135 rows)\n",
            "Fetching 2020-03-03 ...\n"
          ]
        },
        {
          "output_type": "stream",
          "name": "stderr",
          "text": [
            "/tmp/ipython-input-458471964.py:62: FutureWarning: Passing literal html to 'read_html' is deprecated and will be removed in a future version. To read from a literal string, wrap it in a 'StringIO' object.\n",
            "  tables = pd.read_html(html)  # requires lxml\n"
          ]
        },
        {
          "output_type": "stream",
          "name": "stdout",
          "text": [
            "  ✅ Saved daily_prices_retail_2020-03-03.csv (135 rows)\n",
            "Fetching 2020-03-04 ...\n"
          ]
        },
        {
          "output_type": "stream",
          "name": "stderr",
          "text": [
            "/tmp/ipython-input-458471964.py:62: FutureWarning: Passing literal html to 'read_html' is deprecated and will be removed in a future version. To read from a literal string, wrap it in a 'StringIO' object.\n",
            "  tables = pd.read_html(html)  # requires lxml\n"
          ]
        },
        {
          "output_type": "stream",
          "name": "stdout",
          "text": [
            "  ✅ Saved daily_prices_retail_2020-03-04.csv (135 rows)\n",
            "Fetching 2020-03-05 ...\n"
          ]
        },
        {
          "output_type": "stream",
          "name": "stderr",
          "text": [
            "/tmp/ipython-input-458471964.py:62: FutureWarning: Passing literal html to 'read_html' is deprecated and will be removed in a future version. To read from a literal string, wrap it in a 'StringIO' object.\n",
            "  tables = pd.read_html(html)  # requires lxml\n"
          ]
        },
        {
          "output_type": "stream",
          "name": "stdout",
          "text": [
            "  ✅ Saved daily_prices_retail_2020-03-05.csv (135 rows)\n",
            "Fetching 2020-03-06 ...\n"
          ]
        },
        {
          "output_type": "stream",
          "name": "stderr",
          "text": [
            "/tmp/ipython-input-458471964.py:62: FutureWarning: Passing literal html to 'read_html' is deprecated and will be removed in a future version. To read from a literal string, wrap it in a 'StringIO' object.\n",
            "  tables = pd.read_html(html)  # requires lxml\n"
          ]
        },
        {
          "output_type": "stream",
          "name": "stdout",
          "text": [
            "  ✅ Saved daily_prices_retail_2020-03-06.csv (135 rows)\n",
            "Fetching 2020-03-07 ...\n"
          ]
        },
        {
          "output_type": "stream",
          "name": "stderr",
          "text": [
            "/tmp/ipython-input-458471964.py:62: FutureWarning: Passing literal html to 'read_html' is deprecated and will be removed in a future version. To read from a literal string, wrap it in a 'StringIO' object.\n",
            "  tables = pd.read_html(html)  # requires lxml\n"
          ]
        },
        {
          "output_type": "stream",
          "name": "stdout",
          "text": [
            "  ✅ Saved daily_prices_retail_2020-03-07.csv (135 rows)\n",
            "Fetching 2020-03-08 ...\n"
          ]
        },
        {
          "output_type": "stream",
          "name": "stderr",
          "text": [
            "/tmp/ipython-input-458471964.py:62: FutureWarning: Passing literal html to 'read_html' is deprecated and will be removed in a future version. To read from a literal string, wrap it in a 'StringIO' object.\n",
            "  tables = pd.read_html(html)  # requires lxml\n"
          ]
        },
        {
          "output_type": "stream",
          "name": "stdout",
          "text": [
            "  ✅ Saved daily_prices_retail_2020-03-08.csv (135 rows)\n",
            "Fetching 2020-03-09 ...\n"
          ]
        },
        {
          "output_type": "stream",
          "name": "stderr",
          "text": [
            "/tmp/ipython-input-458471964.py:62: FutureWarning: Passing literal html to 'read_html' is deprecated and will be removed in a future version. To read from a literal string, wrap it in a 'StringIO' object.\n",
            "  tables = pd.read_html(html)  # requires lxml\n"
          ]
        },
        {
          "output_type": "stream",
          "name": "stdout",
          "text": [
            "  ✅ Saved daily_prices_retail_2020-03-09.csv (135 rows)\n",
            "Fetching 2020-03-10 ...\n"
          ]
        },
        {
          "output_type": "stream",
          "name": "stderr",
          "text": [
            "/tmp/ipython-input-458471964.py:62: FutureWarning: Passing literal html to 'read_html' is deprecated and will be removed in a future version. To read from a literal string, wrap it in a 'StringIO' object.\n",
            "  tables = pd.read_html(html)  # requires lxml\n"
          ]
        },
        {
          "output_type": "stream",
          "name": "stdout",
          "text": [
            "  ✅ Saved daily_prices_retail_2020-03-10.csv (135 rows)\n",
            "Fetching 2020-03-11 ...\n"
          ]
        },
        {
          "output_type": "stream",
          "name": "stderr",
          "text": [
            "/tmp/ipython-input-458471964.py:62: FutureWarning: Passing literal html to 'read_html' is deprecated and will be removed in a future version. To read from a literal string, wrap it in a 'StringIO' object.\n",
            "  tables = pd.read_html(html)  # requires lxml\n"
          ]
        },
        {
          "output_type": "stream",
          "name": "stdout",
          "text": [
            "  ✅ Saved daily_prices_retail_2020-03-11.csv (135 rows)\n",
            "Fetching 2020-03-12 ...\n"
          ]
        },
        {
          "output_type": "stream",
          "name": "stderr",
          "text": [
            "/tmp/ipython-input-458471964.py:62: FutureWarning: Passing literal html to 'read_html' is deprecated and will be removed in a future version. To read from a literal string, wrap it in a 'StringIO' object.\n",
            "  tables = pd.read_html(html)  # requires lxml\n"
          ]
        },
        {
          "output_type": "stream",
          "name": "stdout",
          "text": [
            "  ✅ Saved daily_prices_retail_2020-03-12.csv (135 rows)\n",
            "Fetching 2020-03-13 ...\n"
          ]
        },
        {
          "output_type": "stream",
          "name": "stderr",
          "text": [
            "/tmp/ipython-input-458471964.py:62: FutureWarning: Passing literal html to 'read_html' is deprecated and will be removed in a future version. To read from a literal string, wrap it in a 'StringIO' object.\n",
            "  tables = pd.read_html(html)  # requires lxml\n"
          ]
        },
        {
          "output_type": "stream",
          "name": "stdout",
          "text": [
            "  ✅ Saved daily_prices_retail_2020-03-13.csv (135 rows)\n",
            "Fetching 2020-03-14 ...\n"
          ]
        },
        {
          "output_type": "stream",
          "name": "stderr",
          "text": [
            "/tmp/ipython-input-458471964.py:62: FutureWarning: Passing literal html to 'read_html' is deprecated and will be removed in a future version. To read from a literal string, wrap it in a 'StringIO' object.\n",
            "  tables = pd.read_html(html)  # requires lxml\n"
          ]
        },
        {
          "output_type": "stream",
          "name": "stdout",
          "text": [
            "  ✅ Saved daily_prices_retail_2020-03-14.csv (135 rows)\n",
            "Fetching 2020-03-15 ...\n"
          ]
        },
        {
          "output_type": "stream",
          "name": "stderr",
          "text": [
            "/tmp/ipython-input-458471964.py:62: FutureWarning: Passing literal html to 'read_html' is deprecated and will be removed in a future version. To read from a literal string, wrap it in a 'StringIO' object.\n",
            "  tables = pd.read_html(html)  # requires lxml\n"
          ]
        },
        {
          "output_type": "stream",
          "name": "stdout",
          "text": [
            "  ✅ Saved daily_prices_retail_2020-03-15.csv (135 rows)\n",
            "Fetching 2020-03-16 ...\n"
          ]
        },
        {
          "output_type": "stream",
          "name": "stderr",
          "text": [
            "/tmp/ipython-input-458471964.py:62: FutureWarning: Passing literal html to 'read_html' is deprecated and will be removed in a future version. To read from a literal string, wrap it in a 'StringIO' object.\n",
            "  tables = pd.read_html(html)  # requires lxml\n"
          ]
        },
        {
          "output_type": "stream",
          "name": "stdout",
          "text": [
            "  ✅ Saved daily_prices_retail_2020-03-16.csv (135 rows)\n",
            "Fetching 2020-03-17 ...\n"
          ]
        },
        {
          "output_type": "stream",
          "name": "stderr",
          "text": [
            "/tmp/ipython-input-458471964.py:62: FutureWarning: Passing literal html to 'read_html' is deprecated and will be removed in a future version. To read from a literal string, wrap it in a 'StringIO' object.\n",
            "  tables = pd.read_html(html)  # requires lxml\n"
          ]
        },
        {
          "output_type": "stream",
          "name": "stdout",
          "text": [
            "  ✅ Saved daily_prices_retail_2020-03-17.csv (135 rows)\n",
            "Fetching 2020-03-18 ...\n"
          ]
        },
        {
          "output_type": "stream",
          "name": "stderr",
          "text": [
            "/tmp/ipython-input-458471964.py:62: FutureWarning: Passing literal html to 'read_html' is deprecated and will be removed in a future version. To read from a literal string, wrap it in a 'StringIO' object.\n",
            "  tables = pd.read_html(html)  # requires lxml\n"
          ]
        },
        {
          "output_type": "stream",
          "name": "stdout",
          "text": [
            "  ✅ Saved daily_prices_retail_2020-03-18.csv (135 rows)\n",
            "Fetching 2020-03-19 ...\n"
          ]
        },
        {
          "output_type": "stream",
          "name": "stderr",
          "text": [
            "/tmp/ipython-input-458471964.py:62: FutureWarning: Passing literal html to 'read_html' is deprecated and will be removed in a future version. To read from a literal string, wrap it in a 'StringIO' object.\n",
            "  tables = pd.read_html(html)  # requires lxml\n"
          ]
        },
        {
          "output_type": "stream",
          "name": "stdout",
          "text": [
            "  ✅ Saved daily_prices_retail_2020-03-19.csv (135 rows)\n",
            "Fetching 2020-03-20 ...\n"
          ]
        },
        {
          "output_type": "stream",
          "name": "stderr",
          "text": [
            "/tmp/ipython-input-458471964.py:62: FutureWarning: Passing literal html to 'read_html' is deprecated and will be removed in a future version. To read from a literal string, wrap it in a 'StringIO' object.\n",
            "  tables = pd.read_html(html)  # requires lxml\n"
          ]
        },
        {
          "output_type": "stream",
          "name": "stdout",
          "text": [
            "  ✅ Saved daily_prices_retail_2020-03-20.csv (135 rows)\n",
            "Fetching 2020-03-21 ...\n"
          ]
        },
        {
          "output_type": "stream",
          "name": "stderr",
          "text": [
            "/tmp/ipython-input-458471964.py:62: FutureWarning: Passing literal html to 'read_html' is deprecated and will be removed in a future version. To read from a literal string, wrap it in a 'StringIO' object.\n",
            "  tables = pd.read_html(html)  # requires lxml\n"
          ]
        },
        {
          "output_type": "stream",
          "name": "stdout",
          "text": [
            "  ✅ Saved daily_prices_retail_2020-03-21.csv (135 rows)\n",
            "Fetching 2020-03-22 ...\n"
          ]
        },
        {
          "output_type": "stream",
          "name": "stderr",
          "text": [
            "/tmp/ipython-input-458471964.py:62: FutureWarning: Passing literal html to 'read_html' is deprecated and will be removed in a future version. To read from a literal string, wrap it in a 'StringIO' object.\n",
            "  tables = pd.read_html(html)  # requires lxml\n"
          ]
        },
        {
          "output_type": "stream",
          "name": "stdout",
          "text": [
            "  ✅ Saved daily_prices_retail_2020-03-22.csv (135 rows)\n",
            "Fetching 2020-03-23 ...\n"
          ]
        },
        {
          "output_type": "stream",
          "name": "stderr",
          "text": [
            "/tmp/ipython-input-458471964.py:62: FutureWarning: Passing literal html to 'read_html' is deprecated and will be removed in a future version. To read from a literal string, wrap it in a 'StringIO' object.\n",
            "  tables = pd.read_html(html)  # requires lxml\n"
          ]
        },
        {
          "output_type": "stream",
          "name": "stdout",
          "text": [
            "  ✅ Saved daily_prices_retail_2020-03-23.csv (135 rows)\n",
            "Fetching 2020-03-24 ...\n"
          ]
        },
        {
          "output_type": "stream",
          "name": "stderr",
          "text": [
            "/tmp/ipython-input-458471964.py:62: FutureWarning: Passing literal html to 'read_html' is deprecated and will be removed in a future version. To read from a literal string, wrap it in a 'StringIO' object.\n",
            "  tables = pd.read_html(html)  # requires lxml\n"
          ]
        },
        {
          "output_type": "stream",
          "name": "stdout",
          "text": [
            "  ✅ Saved daily_prices_retail_2020-03-24.csv (135 rows)\n",
            "Fetching 2020-03-25 ...\n"
          ]
        },
        {
          "output_type": "stream",
          "name": "stderr",
          "text": [
            "/tmp/ipython-input-458471964.py:62: FutureWarning: Passing literal html to 'read_html' is deprecated and will be removed in a future version. To read from a literal string, wrap it in a 'StringIO' object.\n",
            "  tables = pd.read_html(html)  # requires lxml\n"
          ]
        },
        {
          "output_type": "stream",
          "name": "stdout",
          "text": [
            "  ✅ Saved daily_prices_retail_2020-03-25.csv (135 rows)\n",
            "Fetching 2020-03-26 ...\n"
          ]
        },
        {
          "output_type": "stream",
          "name": "stderr",
          "text": [
            "/tmp/ipython-input-458471964.py:62: FutureWarning: Passing literal html to 'read_html' is deprecated and will be removed in a future version. To read from a literal string, wrap it in a 'StringIO' object.\n",
            "  tables = pd.read_html(html)  # requires lxml\n"
          ]
        },
        {
          "output_type": "stream",
          "name": "stdout",
          "text": [
            "  ✅ Saved daily_prices_retail_2020-03-26.csv (135 rows)\n",
            "Fetching 2020-03-27 ...\n"
          ]
        },
        {
          "output_type": "stream",
          "name": "stderr",
          "text": [
            "/tmp/ipython-input-458471964.py:62: FutureWarning: Passing literal html to 'read_html' is deprecated and will be removed in a future version. To read from a literal string, wrap it in a 'StringIO' object.\n",
            "  tables = pd.read_html(html)  # requires lxml\n"
          ]
        },
        {
          "output_type": "stream",
          "name": "stdout",
          "text": [
            "  ✅ Saved daily_prices_retail_2020-03-27.csv (135 rows)\n",
            "Fetching 2020-03-28 ...\n"
          ]
        },
        {
          "output_type": "stream",
          "name": "stderr",
          "text": [
            "/tmp/ipython-input-458471964.py:62: FutureWarning: Passing literal html to 'read_html' is deprecated and will be removed in a future version. To read from a literal string, wrap it in a 'StringIO' object.\n",
            "  tables = pd.read_html(html)  # requires lxml\n"
          ]
        },
        {
          "output_type": "stream",
          "name": "stdout",
          "text": [
            "  ✅ Saved daily_prices_retail_2020-03-28.csv (135 rows)\n",
            "Fetching 2020-03-29 ...\n"
          ]
        },
        {
          "output_type": "stream",
          "name": "stderr",
          "text": [
            "/tmp/ipython-input-458471964.py:62: FutureWarning: Passing literal html to 'read_html' is deprecated and will be removed in a future version. To read from a literal string, wrap it in a 'StringIO' object.\n",
            "  tables = pd.read_html(html)  # requires lxml\n"
          ]
        },
        {
          "output_type": "stream",
          "name": "stdout",
          "text": [
            "  ✅ Saved daily_prices_retail_2020-03-29.csv (135 rows)\n",
            "Fetching 2020-03-30 ...\n"
          ]
        },
        {
          "output_type": "stream",
          "name": "stderr",
          "text": [
            "/tmp/ipython-input-458471964.py:62: FutureWarning: Passing literal html to 'read_html' is deprecated and will be removed in a future version. To read from a literal string, wrap it in a 'StringIO' object.\n",
            "  tables = pd.read_html(html)  # requires lxml\n"
          ]
        },
        {
          "output_type": "stream",
          "name": "stdout",
          "text": [
            "  ✅ Saved daily_prices_retail_2020-03-30.csv (135 rows)\n",
            "Fetching 2020-03-31 ...\n"
          ]
        },
        {
          "output_type": "stream",
          "name": "stderr",
          "text": [
            "/tmp/ipython-input-458471964.py:62: FutureWarning: Passing literal html to 'read_html' is deprecated and will be removed in a future version. To read from a literal string, wrap it in a 'StringIO' object.\n",
            "  tables = pd.read_html(html)  # requires lxml\n"
          ]
        },
        {
          "output_type": "stream",
          "name": "stdout",
          "text": [
            "  ✅ Saved daily_prices_retail_2020-03-31.csv (135 rows)\n",
            "\n",
            "Combined CSV written with 4185 total rows.\n",
            "\n",
            "Combined CSV written with 4185 total rows.\n"
          ]
        }
      ],
      "source": [
        "import os\n",
        "import time\n",
        "import datetime as dt\n",
        "from pathlib import Path\n",
        "\n",
        "import requests\n",
        "import pandas as pd\n",
        "from bs4 import BeautifulSoup\n",
        "\n",
        "BASE_MENU_URL = \"https://fcainfoweb.nic.in/reports/report_menu_web.aspx\"\n",
        "REPORT_PAGE_URL = \"https://fcainfoweb.nic.in/reports/Report_daily1_Web_New.aspx\"  # landing page after \"Get Data\"\n",
        "OUT_DIR = Path(\"/content/sample_data/GovDatasetonPrice\")\n",
        "OUT_DIR.mkdir(parents=True, exist_ok=True)\n",
        "\n",
        "HEADERS = {\n",
        "    \"User-Agent\": \"Mozilla/5.0 (Windows NT 10.0; Win64; x64) AppleWebKit/537.36 \"\n",
        "                  \"(KHTML, like Gecko) Chrome/124.0 Safari/537.36\",\n",
        "    \"Accept\": \"text/html,application/xhtml+xml,application/xml;q=0.9,*/*;q=0.8\",\n",
        "}\n",
        "\n",
        "# ---- Helpers ---------------------------------------------------------------\n",
        "\n",
        "def extract_hidden_fields(html: str) -> dict:\n",
        "    \"\"\"\n",
        "    Pull all hidden <input> fields so we always carry fresh ASP.NET state forward.\n",
        "    \"\"\"\n",
        "    soup = BeautifulSoup(html, \"html.parser\")\n",
        "    data = {}\n",
        "    for inp in soup.select(\"input[type=hidden]\"):\n",
        "        name = inp.get(\"name\")\n",
        "        if not name:\n",
        "            continue\n",
        "        data[name] = inp.get(\"value\", \"\")\n",
        "    # Some pages enforce presence of __VIEWSTATEENCRYPTED even if empty:\n",
        "    data.setdefault(\"__VIEWSTATEENCRYPTED\", \"\")\n",
        "    # Keep a few common content controls defaulted if present:\n",
        "    # (these keys exist on the page; leaving them empty is fine)\n",
        "    data.setdefault(\"ctl00_MainContent_ToolkitScriptManager1_HiddenField\", \"\")\n",
        "    return data\n",
        "\n",
        "\n",
        "def postback(session: requests.Session, url: str, state: dict, updates: dict) -> requests.Response:\n",
        "    \"\"\"\n",
        "    Merge current ASP.NET hidden state with control updates and POST.\n",
        "    Returns the response; caller should immediately refresh `state` using the response HTML.\n",
        "    \"\"\"\n",
        "    payload = {**state, **updates}\n",
        "    # ASP.NET expects EVENTARGUMENT even if empty when EVENTTARGET is present\n",
        "    if \"__EVENTTARGET\" in payload and \"__EVENTARGUMENT\" not in payload:\n",
        "        payload[\"__EVENTARGUMENT\"] = \"\"\n",
        "    resp = session.post(url, data=payload, headers=HEADERS, allow_redirects=True, timeout=60)\n",
        "    resp.raise_for_status()\n",
        "    return resp\n",
        "\n",
        "\n",
        "def parse_report_table(html: str) -> pd.DataFrame:\n",
        "    \"\"\"\n",
        "    Parse the Daily Prices table(s) from the report page.\n",
        "    We'll pick the largest table as the main dataset.\n",
        "    \"\"\"\n",
        "    # There can be multiple small header tables; choose the widest table with >= 5 columns.\n",
        "    tables = pd.read_html(html)  # requires lxml\n",
        "    if not tables:\n",
        "        return pd.DataFrame()\n",
        "    tables = [t for t in tables if t.shape[1] >= 5]\n",
        "    if not tables:\n",
        "        return pd.DataFrame()\n",
        "    df = max(tables, key=lambda t: (t.shape[0], t.shape[1]))\n",
        "    if df.empty:  # Add check for empty DataFrame\n",
        "        return pd.DataFrame()\n",
        "    # Normalize column names\n",
        "    df.columns = [str(c).strip().replace(\"\\n\", \" \") for c in df.columns]\n",
        "    return df\n",
        "\n",
        "\n",
        "def get_daily_prices_for_date(session: requests.Session, date_obj: dt.date) -> pd.DataFrame:\n",
        "    \"\"\"\n",
        "    With an already-initialized session on the menu flow, set the date and fetch the report page,\n",
        "    then parse and return the main DataFrame.\n",
        "    \"\"\"\n",
        "    # 1) Load menu (fresh hidden fields)\n",
        "    r0 = session.get(BASE_MENU_URL, headers=HEADERS, timeout=60)\n",
        "    r0.raise_for_status()\n",
        "    state = extract_hidden_fields(r0.text)\n",
        "\n",
        "    # 2) Select: Report Type = Retail, Language = English, Report kind = Price report\n",
        "    #    Many ASP.NET pages require both setting the control value AND indicating the EVENTTARGET that triggered postback.\n",
        "    #    The radio list typically uses `$0` index suffix for the first item (Price report).\n",
        "    step1_updates = {\n",
        "        \"__EVENTTARGET\": \"ctl00$MainContent$Rbl_Rpt_type$0\",\n",
        "        \"ctl00$MainContent$Ddl_Rpt_type\": \"Retail\",\n",
        "        \"ctl00$MainContent$ddl_Language\": \"English\",\n",
        "        \"ctl00$MainContent$Rbl_Rpt_type\": \"Price report\",\n",
        "    }\n",
        "    r1 = postback(session, BASE_MENU_URL, state, step1_updates)\n",
        "    state = extract_hidden_fields(r1.text)\n",
        "\n",
        "    # 3) Select: Report Option = Daily Prices\n",
        "    step2_updates = {\n",
        "        \"__EVENTTARGET\": \"ctl00$MainContent$Ddl_Rpt_Option0\",\n",
        "        \"ctl00$MainContent$Ddl_Rpt_Option0\": \"Daily Prices\",\n",
        "    }\n",
        "    r2 = postback(session, BASE_MENU_URL, state, step2_updates)\n",
        "    state = extract_hidden_fields(r2.text)\n",
        "\n",
        "    # 4) Set date and click \"Get Data\"\n",
        "    #    The control names below have been observed historically; if they change, view-source and update.\n",
        "    date_str = date_obj.strftime(\"%d/%m/%Y\")  # dd/MM/yyyy\n",
        "    step3_updates = {\n",
        "        \"__EVENTTARGET\": \"\",\n",
        "        \"ctl00$MainContent$Txt_FrmDate\": date_str,\n",
        "        \"ctl00$MainContent$btn_getdata1\": \"Get Data\",\n",
        "    }\n",
        "    r3 = postback(session, BASE_MENU_URL, state, step3_updates)\n",
        "\n",
        "    # After successful \"Get Data\", the app usually serves/redirects to Report_daily1_Web_New.aspx using the same session.\n",
        "    # Some environments return the report directly in r3; to be safe, request the known report URL.\n",
        "    r_report = session.get(REPORT_PAGE_URL, headers=HEADERS, timeout=60)\n",
        "    r_report.raise_for_status()\n",
        "\n",
        "    # Parse\n",
        "    df = parse_report_table(r_report.text)\n",
        "    if df.empty:\n",
        "        # Fallback: try parsing r3 if direct page didn't respond as expected\n",
        "        df = parse_report_table(r3.text)\n",
        "\n",
        "    # Attach metadata\n",
        "    if not df.empty:\n",
        "        df[\"ReportDate\"] = date_obj.isoformat()\n",
        "        df[\"Segment\"] = \"Retail\"\n",
        "        df[\"Report\"] = \"Daily Prices\"\n",
        "    return df\n",
        "\n",
        "\n",
        "# ---- Main ------------------------------------------------------------------\n",
        "\n",
        "def main():\n",
        "    start = dt.date(2020, 3, 1)\n",
        "    end = dt.date(2020, 3, 31)\n",
        "    session = requests.Session()\n",
        "    session.headers.update(HEADERS)\n",
        "\n",
        "    all_days = []\n",
        "    d = start\n",
        "    while d <= end:\n",
        "        print(f\"Fetching {d.isoformat()} ...\")\n",
        "        try:\n",
        "            df = get_daily_prices_for_date(session, d)\n",
        "            if df.empty:\n",
        "                print(f\"  ⚠ No rows parsed for {d.isoformat()}. Saving HTML for inspection.\")\n",
        "                # Save raw HTML for debugging\n",
        "                with open(OUT_DIR / f\"debug_{d.isoformat()}.html\", \"w\", encoding=\"utf-8\") as f:\n",
        "                    # Try to capture the last response content we can\n",
        "                    f.write(session.get(REPORT_PAGE_URL, headers=HEADERS, timeout=60).text)\n",
        "            else:\n",
        "                # Save per-day CSV\n",
        "                out_file = OUT_DIR / f\"daily_prices_retail_{d.isoformat()}.csv\"\n",
        "                df.to_csv(out_file, index=False, encoding=\"utf-8-sig\")\n",
        "                print(f\"  ✅ Saved {out_file.name} ({len(df)} rows)\")\n",
        "                all_days.append(df)\n",
        "        except requests.HTTPError as e:\n",
        "            print(f\"  ❌ HTTP error on {d.isoformat()}: {e}\")\n",
        "        except Exception as e:\n",
        "            print(f\"  ❌ Unexpected error on {d.isoformat()}: {e}\")\n",
        "        time.sleep(1.0)  # be polite\n",
        "        d += dt.timedelta(days=1)\n",
        "\n",
        "    # Optional: combined CSV\n",
        "    if all_days:\n",
        "        combined = pd.concat(all_days, ignore_index=True)\n",
        "        combined.to_csv(OUT_DIR / \"daily_prices_retail_2020-03-01_to_2020-03-31.csv\", index=False, encoding=\"utf-8-sig\")\n",
        "        print(f\"\\nCombined CSV written with {len(combined)} total rows.\")\n",
        "\n",
        "        combined.to_excel(OUT_DIR / \"daily_prices_retail_2020-03-01_to_2020-03-31.xlsx\", index=False)\n",
        "        print(f\"\\nCombined CSV written with {len(combined)} total rows.\")\n",
        "\n",
        "if __name__ == \"__main__\":\n",
        "    main()"
      ]
    }
  ]
}